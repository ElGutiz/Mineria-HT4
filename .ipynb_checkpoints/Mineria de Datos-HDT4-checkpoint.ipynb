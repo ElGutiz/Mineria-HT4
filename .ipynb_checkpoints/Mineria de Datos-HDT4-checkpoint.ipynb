{
 "cells": [
  {
   "cell_type": "markdown",
   "id": "85d93fc7",
   "metadata": {},
   "source": [
    "Universidad del Valle de Guatemala <br>\n",
    "16/03/2022 <br>\n",
    "Minería de Datos # 20 \n",
    "\n",
    "# Hoja de Trabajo 4\n",
    "## Modelos de regresion lineal\n",
    "\n",
    "**Integrantes:**<br>\n",
    "Walter Saldaña 19897 <br>\n",
    "José Gutierrez 19111 <br>\n",
    "Javier Cotto 19324 <br>"
   ]
  },
  {
   "cell_type": "markdown",
   "id": "463523ae",
   "metadata": {},
   "source": [
    "### Importar modulos"
   ]
  },
  {
   "cell_type": "code",
   "execution_count": null,
   "id": "c7e4eaa7",
   "metadata": {},
   "outputs": [],
   "source": [
    "import pandas as pd\n",
    "import numpy as np\n",
    "import matplotlib.pyplot as plt\n",
    "from sklearn import datasets\n",
    "import seaborn as sb\n",
    "import sklearn.cluster as cluster\n",
    "import sklearn.metrics as metrics\n",
    "import sklearn.preprocessing\n",
    "import scipy.cluster.hierarchy as sch\n",
    "import skfuzzy as fuzz\n",
    "import pylab\n",
    "import sklearn.mixture as mixture\n",
    "import pyclustertend \n",
    "import random\n",
    "from yellowbrick.cluster import SilhouetteVisualizer\n",
    "from yellowbrick.datasets import load_nfl\n",
    "\n",
    "%matplotlib inline\n",
    "from mpl_toolkits.mplot3d import Axes3D\n",
    "plt.rcParams['figure.figsize'] = (16, 9)\n",
    "plt.style.use('ggplot')"
   ]
  },
  {
   "cell_type": "markdown",
   "id": "c1902e52",
   "metadata": {},
   "source": [
    "### Carga de datos"
   ]
  },
  {
   "cell_type": "code",
   "execution_count": null,
   "id": "935c9232",
   "metadata": {},
   "outputs": [],
   "source": [
    "entrenamiento = pd.read_csv('train.csv', encoding='unicode_escape')\n",
    "entrenamiento.head()"
   ]
  },
  {
   "cell_type": "code",
   "execution_count": null,
   "id": "b05a58e6",
   "metadata": {},
   "outputs": [],
   "source": [
    "prueba = pd.read_csv('test.csv', encoding='unicode_escape')\n",
    "prueba.head()"
   ]
  },
  {
   "cell_type": "markdown",
   "id": "8e047031",
   "metadata": {},
   "source": [
    "## 2) Preprocesamiento de los datos.\n",
    "\n",
    "Remover variables cualitativas que no aportan, ya que no son categóricas, y sus frecuencias no pueden ser clasificadas."
   ]
  },
  {
   "cell_type": "code",
   "execution_count": null,
   "id": "c84ffae7",
   "metadata": {},
   "outputs": [],
   "source": [
    "entrenamiento = entrenamiento.drop(['Street', 'Id', 'MSZoning', 'Alley', 'LotShape', 'LandContour', 'Utilities', 'LotConfig', \n",
    "                         'LandSlope', 'Neighborhood', 'Condition1', 'Condition2', 'BldgType', 'HouseStyle','RoofStyle', \n",
    "                         'RoofMatl', 'Exterior1st', 'Exterior2nd', 'MasVnrType', 'ExterQual', 'ExterCond',\n",
    "                         'Foundation', 'BsmtQual', 'BsmtCond', 'BsmtExposure', 'BsmtFinType1', 'BsmtFinType2', 'Heating', \n",
    "                         'HeatingQC', 'CentralAir', 'Electrical', 'KitchenQual', 'Functional', 'FireplaceQu', 'GarageType',\n",
    "                         'GarageFinish', 'GarageQual', 'GarageCond', 'PavedDrive','PoolQC', 'Fence', 'MiscFeature', \n",
    "                         'SaleType', 'SaleCondition'], axis=1)\n"
   ]
  },
  {
   "cell_type": "markdown",
   "id": "b760046f",
   "metadata": {},
   "source": [
    "Eliminar filas que contengan datos nulos (NaN)."
   ]
  },
  {
   "cell_type": "code",
   "execution_count": null,
   "id": "b8412667",
   "metadata": {},
   "outputs": [],
   "source": [
    "entrenamiento.dropna(subset = [\"LotFrontage\"], inplace = True)\n",
    "entrenamiento.dropna(subset = [\"MasVnrArea\"], inplace = True)\n",
    "entrenamiento.dropna(subset = [\"GarageYrBlt\"], inplace = True)\n"
   ]
  },
  {
   "cell_type": "markdown",
   "id": "dae724f2",
   "metadata": {},
   "source": [
    "## Resumen estadístico de las variables"
   ]
  },
  {
   "cell_type": "code",
   "execution_count": null,
   "id": "3958f23c",
   "metadata": {
    "scrolled": true
   },
   "outputs": [],
   "source": [
    "    entrenamiento.describe()"
   ]
  },
  {
   "cell_type": "markdown",
   "id": "9f692371",
   "metadata": {},
   "source": [
    "### Analisis de Datos"
   ]
  },
  {
   "cell_type": "code",
   "execution_count": null,
   "id": "9ca68073",
   "metadata": {},
   "outputs": [],
   "source": [
    "columns = []\n",
    "for col in entrenamiento.columns:\n",
    "    columns.append(col)\n",
    "    \n",
    "for columna in columns:\n",
    "    plt.boxplot(entrenamiento[columna])\n",
    "    plt.title(columna)\n",
    "    plt.show()"
   ]
  },
  {
   "cell_type": "markdown",
   "id": "6aa0b5e3",
   "metadata": {},
   "source": [
    "### Eliminacion de datos atipicos"
   ]
  },
  {
   "cell_type": "code",
   "execution_count": null,
   "id": "f17fdbcd",
   "metadata": {},
   "outputs": [],
   "source": [
    "for columna in columns:\n",
    "    Q1 = entrenamiento[columna].quantile(0.25)\n",
    "    Q3 = entrenamiento[columna].quantile(0.75)\n",
    "    IQR = Q3 - Q1\n",
    "\n",
    "    indexes = entrenamiento[entrenamiento[columna] < (Q1 - 1.5 * IQR)].index\n",
    "    entrenamiento.drop(indexes, inplace=True)\n",
    "\n",
    "    indexes = entrenamiento[entrenamiento[columna] > (Q3 + 1.5 * IQR)].index\n",
    "    entrenamiento.drop(indexes, inplace=True)\n",
    "    \n",
    "    plt.boxplot(entrenamiento[columna])\n",
    "    plt.title(columna)\n",
    "    plt.show()"
   ]
  },
  {
   "cell_type": "markdown",
   "id": "0ab354ef",
   "metadata": {},
   "source": [
    "### Muestra Representativa de los Datos"
   ]
  },
  {
   "cell_type": "code",
   "execution_count": null,
   "id": "3ed61098",
   "metadata": {
    "scrolled": true
   },
   "outputs": [],
   "source": [
    "sample = entrenamiento.copy()\n",
    "\n",
    "sample[\"combined\"] = list(\n",
    "    zip(\n",
    "        sample[\"MSSubClass\"],\n",
    "        sample[\"LotFrontage\"],\n",
    "        sample[\"LotArea\"],\n",
    "        sample[\"OverallQual\"],\n",
    "        sample[\"OverallCond\"],\n",
    "        sample[\"YearBuilt\"],\n",
    "        sample[\"YearRemodAdd\"],\n",
    "        sample[\"MasVnrArea\"],\n",
    "        sample[\"BsmtFinSF1\"],\n",
    "        sample[\"BsmtFinSF2\"],\n",
    "        sample[\"BsmtUnfSF\"],\n",
    "        sample[\"TotalBsmtSF\"],\n",
    "        sample[\"1stFlrSF\"],\n",
    "        sample[\"2ndFlrSF\"],\n",
    "        sample[\"LowQualFinSF\"],\n",
    "        sample[\"GrLivArea\"],\n",
    "        sample[\"BsmtFullBath\"],\n",
    "        sample[\"BsmtHalfBath\"],\n",
    "        sample[\"FullBath\"],\n",
    "        sample[\"HalfBath\"],\n",
    "        sample[\"BedroomAbvGr\"],\n",
    "        sample[\"KitchenAbvGr\"],\n",
    "        sample[\"TotRmsAbvGrd\"],\n",
    "        sample[\"Fireplaces\"],\n",
    "        sample[\"GarageYrBlt\"],\n",
    "        sample[\"GarageCars\"],\n",
    "        sample[\"GarageArea\"],\n",
    "        sample[\"WoodDeckSF\"],\n",
    "        sample[\"OpenPorchSF\"],\n",
    "        sample[\"EnclosedPorch\"],\n",
    "        sample[\"3SsnPorch\"],\n",
    "        sample[\"ScreenPorch\"],\n",
    "        sample[\"PoolArea\"],\n",
    "        sample[\"MiscVal\"],\n",
    "        sample[\"MoSold\"],\n",
    "        sample[\"YrSold\"],\n",
    "        sample[\"SalePrice\"]\n",
    "    )\n",
    ")\n",
    "\n",
    "combined_weight = sample['combined'].value_counts(normalize=True)\n",
    "\n",
    "sample['combined_weight'] = sample['combined'].apply(lambda x: combined_weight[x])\n",
    "\n",
    "sample = sample.sample(65, weights=sample['combined_weight'])\n",
    "sample = sample.drop([\"combined_weight\"], axis=1)\n",
    "\n",
    "sample.describe()"
   ]
  },
  {
   "cell_type": "markdown",
   "id": "b17577e0",
   "metadata": {},
   "source": [
    "### Correlacion de variables"
   ]
  },
  {
   "cell_type": "markdown",
   "id": "5d05da58",
   "metadata": {},
   "source": [
    "#### Original"
   ]
  },
  {
   "cell_type": "code",
   "execution_count": null,
   "id": "56838933",
   "metadata": {},
   "outputs": [],
   "source": [
    "correlacion = entrenamiento.corr()\n",
    "fig, axis = plt.subplots()\n",
    "sb.heatmap(correlacion, xticklabels=correlacion.columns, yticklabels=correlacion.columns, annot=True, ax=axis)"
   ]
  },
  {
   "cell_type": "markdown",
   "id": "84ac7fd2",
   "metadata": {},
   "source": [
    "#### Muestra"
   ]
  },
  {
   "cell_type": "code",
   "execution_count": null,
   "id": "9f6ec318",
   "metadata": {},
   "outputs": [],
   "source": [
    "correlacion = sample.corr()\n",
    "fig, axis = plt.subplots()\n",
    "sb.heatmap(correlacion, xticklabels=correlacion.columns, yticklabels=correlacion.columns, annot=True, ax=axis)"
   ]
  },
  {
   "cell_type": "markdown",
   "id": "4f56d857",
   "metadata": {},
   "source": [
    "### Clustering"
   ]
  },
  {
   "cell_type": "markdown",
   "id": "31cda0c2",
   "metadata": {},
   "source": [
    "#### Evaluación de posibles agrupamientos con Estadístico de Hopkings y VAT"
   ]
  },
  {
   "cell_type": "markdown",
   "id": "47066868",
   "metadata": {},
   "source": [
    "##### SalePrice, OverallQual"
   ]
  },
  {
   "cell_type": "code",
   "execution_count": null,
   "id": "8eb2e8a2",
   "metadata": {},
   "outputs": [],
   "source": [
    "sale_overall = entrenamiento[[\"SalePrice\", \"OverallQual\"]]\n",
    "\n",
    "pyclustertend.hopkins(sale_overall,len(sale_overall))"
   ]
  },
  {
   "cell_type": "code",
   "execution_count": null,
   "id": "fb22237b",
   "metadata": {},
   "outputs": [],
   "source": [
    "sale_overall = sample[[\"SalePrice\", \"OverallQual\"]]\n",
    "pyclustertend.vat(sale_overall)"
   ]
  },
  {
   "cell_type": "markdown",
   "id": "315e07d3",
   "metadata": {},
   "source": [
    "##### SalePrice, YearBuilt"
   ]
  },
  {
   "cell_type": "code",
   "execution_count": null,
   "id": "dd70bbea",
   "metadata": {},
   "outputs": [],
   "source": [
    "sale_year = entrenamiento[[\"SalePrice\", \"YearBuilt\"]]\n",
    "\n",
    "pyclustertend.hopkins(sale_year,len(sale_year))"
   ]
  },
  {
   "cell_type": "code",
   "execution_count": null,
   "id": "dfeac381",
   "metadata": {},
   "outputs": [],
   "source": [
    "sale_year = sample[[\"SalePrice\", \"YearBuilt\"]]\n",
    "\n",
    "pyclustertend.vat(sale_year)"
   ]
  },
  {
   "cell_type": "markdown",
   "id": "ed4f8386",
   "metadata": {},
   "source": [
    "##### SalePrice, YearRemodAdd"
   ]
  },
  {
   "cell_type": "code",
   "execution_count": null,
   "id": "746b81b1",
   "metadata": {},
   "outputs": [],
   "source": [
    "sale_remod = entrenamiento[[\"SalePrice\", \"YearRemodAdd\"]]\n",
    "\n",
    "pyclustertend.hopkins(sale_remod,len(sale_remod))"
   ]
  },
  {
   "cell_type": "code",
   "execution_count": null,
   "id": "49aed542",
   "metadata": {},
   "outputs": [],
   "source": [
    "sale_remod = sample[[\"SalePrice\", \"YearRemodAdd\"]]\n",
    "\n",
    "pyclustertend.vat(sale_remod)"
   ]
  },
  {
   "cell_type": "markdown",
   "id": "038003e5",
   "metadata": {},
   "source": [
    "##### SalePrice, TotalBsmtSF"
   ]
  },
  {
   "cell_type": "code",
   "execution_count": null,
   "id": "7cc39077",
   "metadata": {},
   "outputs": [],
   "source": [
    "sale_totalbsmt = entrenamiento[[\"SalePrice\", \"TotalBsmtSF\"]]\n",
    "\n",
    "pyclustertend.hopkins(sale_totalbsmt,len(sale_totalbsmt))"
   ]
  },
  {
   "cell_type": "code",
   "execution_count": null,
   "id": "f99496c7",
   "metadata": {},
   "outputs": [],
   "source": [
    "sale_totalbsmt = sample[[\"SalePrice\", \"TotalBsmtSF\"]]\n",
    "\n",
    "pyclustertend.vat(sale_totalbsmt)"
   ]
  },
  {
   "cell_type": "markdown",
   "id": "60c9818a",
   "metadata": {},
   "source": [
    "##### SalePrice, 1stFlrSF"
   ]
  },
  {
   "cell_type": "code",
   "execution_count": null,
   "id": "82e68c3b",
   "metadata": {},
   "outputs": [],
   "source": [
    "sale_1stflr = entrenamiento[[\"SalePrice\", \"1stFlrSF\"]]\n",
    "\n",
    "pyclustertend.hopkins(sale_1stflr,len(sale_1stflr))"
   ]
  },
  {
   "cell_type": "code",
   "execution_count": null,
   "id": "7c6fbd2e",
   "metadata": {},
   "outputs": [],
   "source": [
    "sale_1stflr = sample[[\"SalePrice\", \"1stFlrSF\"]]\n",
    "\n",
    "pyclustertend.vat(sale_1stflr)"
   ]
  },
  {
   "cell_type": "markdown",
   "id": "0e48acec",
   "metadata": {},
   "source": [
    "##### SalePrice, GrLiveArea"
   ]
  },
  {
   "cell_type": "code",
   "execution_count": null,
   "id": "f8b8335f",
   "metadata": {},
   "outputs": [],
   "source": [
    "sale_grlive = entrenamiento[[\"SalePrice\", \"GrLivArea\"]]\n",
    "\n",
    "pyclustertend.hopkins(sale_grlive,len(sale_grlive))"
   ]
  },
  {
   "cell_type": "code",
   "execution_count": null,
   "id": "dc56be3e",
   "metadata": {
    "scrolled": false
   },
   "outputs": [],
   "source": [
    "sale_grlive = sample[[\"SalePrice\", \"GrLivArea\"]]\n",
    "\n",
    "pyclustertend.vat(sale_grlive)"
   ]
  },
  {
   "cell_type": "markdown",
   "id": "d501207d",
   "metadata": {},
   "source": [
    "##### SalePrice, FullBath"
   ]
  },
  {
   "cell_type": "code",
   "execution_count": null,
   "id": "89c47f94",
   "metadata": {},
   "outputs": [],
   "source": [
    "sale_fullbath = entrenamiento[[\"SalePrice\", \"FullBath\"]]\n",
    "\n",
    "pyclustertend.hopkins(sale_fullbath,len(sale_fullbath))"
   ]
  },
  {
   "cell_type": "code",
   "execution_count": null,
   "id": "c03ceb0a",
   "metadata": {},
   "outputs": [],
   "source": [
    "sale_fullbath = sample[[\"SalePrice\", \"FullBath\"]]\n",
    "\n",
    "pyclustertend.vat(sale_fullbath)"
   ]
  },
  {
   "cell_type": "markdown",
   "id": "d03f64cf",
   "metadata": {},
   "source": [
    "##### SalePrice, GarageYrBlt"
   ]
  },
  {
   "cell_type": "code",
   "execution_count": null,
   "id": "ca2582b7",
   "metadata": {},
   "outputs": [],
   "source": [
    "sale_garage = entrenamiento[[\"SalePrice\", \"GarageYrBlt\"]]\n",
    "\n",
    "pyclustertend.hopkins(sale_garage,len(sale_garage))"
   ]
  },
  {
   "cell_type": "code",
   "execution_count": null,
   "id": "2b0a9a74",
   "metadata": {},
   "outputs": [],
   "source": [
    "sale_garage = sample[[\"SalePrice\", \"GarageYrBlt\"]]\n",
    "\n",
    "pyclustertend.vat(sale_garage)"
   ]
  },
  {
   "cell_type": "markdown",
   "id": "19ea0bf4",
   "metadata": {},
   "source": [
    "##### SalePrice, GarageCars"
   ]
  },
  {
   "cell_type": "code",
   "execution_count": null,
   "id": "25f4f48f",
   "metadata": {},
   "outputs": [],
   "source": [
    "sale_garagecars = entrenamiento[[\"SalePrice\", \"GarageCars\"]]\n",
    "\n",
    "pyclustertend.hopkins(sale_garagecars,len(sale_garagecars))"
   ]
  },
  {
   "cell_type": "code",
   "execution_count": null,
   "id": "2a37f919",
   "metadata": {},
   "outputs": [],
   "source": [
    "sale_garagecars = sample[[\"SalePrice\", \"GarageCars\"]]\n",
    "\n",
    "pyclustertend.vat(sale_garagecars)"
   ]
  },
  {
   "cell_type": "markdown",
   "id": "addf28a6",
   "metadata": {},
   "source": [
    "##### SalePrice, GarageArea"
   ]
  },
  {
   "cell_type": "code",
   "execution_count": null,
   "id": "873b68a2",
   "metadata": {},
   "outputs": [],
   "source": [
    "sale_garagearea = entrenamiento[[\"SalePrice\", \"GarageArea\"]]\n",
    "\n",
    "pyclustertend.hopkins(sale_garagearea,len(sale_garagearea))"
   ]
  },
  {
   "cell_type": "code",
   "execution_count": null,
   "id": "0b38272f",
   "metadata": {},
   "outputs": [],
   "source": [
    "sale_garagearea = sample[[\"SalePrice\", \"GarageArea\"]]\n",
    "\n",
    "pyclustertend.vat(sale_garagearea)"
   ]
  },
  {
   "cell_type": "markdown",
   "id": "73d497e1",
   "metadata": {},
   "source": [
    "### Determinacion de grupos, por medio de graficas de codos"
   ]
  },
  {
   "cell_type": "code",
   "execution_count": null,
   "id": "13b47b2e",
   "metadata": {},
   "outputs": [],
   "source": [
    "numeroClusters = range(1,11)\n",
    "wcss = []\n",
    "for i in numeroClusters:\n",
    "    kmeans = cluster.KMeans(n_clusters=i)\n",
    "    kmeans.fit(sale_overall)\n",
    "    wcss.append(kmeans.inertia_)\n",
    "\n",
    "plt.plot(numeroClusters, wcss)\n",
    "plt.xlabel(\"Número de clusters\")\n",
    "plt.ylabel(\"Score\")\n",
    "plt.title(\"Gráfico de Codo\")\n",
    "plt.show()\n",
    "\n",
    "print('Numero indicado de clusters: 3')"
   ]
  },
  {
   "cell_type": "code",
   "execution_count": null,
   "id": "049a10c2",
   "metadata": {},
   "outputs": [],
   "source": [
    "numeroClusters = range(1,11)\n",
    "wcss = []\n",
    "for i in numeroClusters:\n",
    "    kmeans = cluster.KMeans(n_clusters=i)\n",
    "    kmeans.fit(sale_year)\n",
    "    wcss.append(kmeans.inertia_)\n",
    "\n",
    "plt.plot(numeroClusters, wcss)\n",
    "plt.xlabel(\"Número de clusters\")\n",
    "plt.ylabel(\"Score\")\n",
    "plt.title(\"Gráfico de Codo\")\n",
    "plt.show()\n",
    "\n",
    "print('Numero indicado de clusters: 3')"
   ]
  },
  {
   "cell_type": "code",
   "execution_count": null,
   "id": "622044dc",
   "metadata": {},
   "outputs": [],
   "source": [
    "numeroClusters = range(1,11)\n",
    "wcss = []\n",
    "for i in numeroClusters:\n",
    "    kmeans = cluster.KMeans(n_clusters=i)\n",
    "    kmeans.fit(sale_remod)\n",
    "    wcss.append(kmeans.inertia_)\n",
    "\n",
    "plt.plot(numeroClusters, wcss)\n",
    "plt.xlabel(\"Número de clusters\")\n",
    "plt.ylabel(\"Score\")\n",
    "plt.title(\"Gráfico de Codo\")\n",
    "plt.show()\n",
    "\n",
    "print('Numero indicado de clusters: 3')"
   ]
  },
  {
   "cell_type": "code",
   "execution_count": null,
   "id": "0e582e97",
   "metadata": {},
   "outputs": [],
   "source": [
    "numeroClusters = range(1,11)\n",
    "wcss = []\n",
    "for i in numeroClusters:\n",
    "    kmeans = cluster.KMeans(n_clusters=i)\n",
    "    kmeans.fit(sale_totalbsmt)\n",
    "    wcss.append(kmeans.inertia_)\n",
    "\n",
    "plt.plot(numeroClusters, wcss)\n",
    "plt.xlabel(\"Número de clusters\")\n",
    "plt.ylabel(\"Score\")\n",
    "plt.title(\"Gráfico de Codo\")\n",
    "plt.show()\n",
    "\n",
    "print('Numero indicado de clusters: 3')"
   ]
  },
  {
   "cell_type": "code",
   "execution_count": null,
   "id": "33f62165",
   "metadata": {},
   "outputs": [],
   "source": [
    "numeroClusters = range(1,11)\n",
    "wcss = []\n",
    "for i in numeroClusters:\n",
    "    kmeans = cluster.KMeans(n_clusters=i)\n",
    "    kmeans.fit(sale_1stflr)\n",
    "    wcss.append(kmeans.inertia_)\n",
    "\n",
    "plt.plot(numeroClusters, wcss)\n",
    "plt.xlabel(\"Número de clusters\")\n",
    "plt.ylabel(\"Score\")\n",
    "plt.title(\"Gráfico de Codo\")\n",
    "plt.show()\n",
    "\n",
    "print('Numero indicado de clusters: 3')"
   ]
  },
  {
   "cell_type": "code",
   "execution_count": null,
   "id": "09c5d8ed",
   "metadata": {},
   "outputs": [],
   "source": [
    "numeroClusters = range(1,11)\n",
    "wcss = []\n",
    "for i in numeroClusters:\n",
    "    kmeans = cluster.KMeans(n_clusters=i)\n",
    "    kmeans.fit(sale_grlive)\n",
    "    wcss.append(kmeans.inertia_)\n",
    "\n",
    "plt.plot(numeroClusters, wcss)\n",
    "plt.xlabel(\"Número de clusters\")\n",
    "plt.ylabel(\"Score\")\n",
    "plt.title(\"Gráfico de Codo\")\n",
    "plt.show()\n",
    "\n",
    "print('Numero indicado de clusters: 3')"
   ]
  },
  {
   "cell_type": "code",
   "execution_count": null,
   "id": "eea9d10f",
   "metadata": {},
   "outputs": [],
   "source": [
    "numeroClusters = range(1,11)\n",
    "wcss = []\n",
    "for i in numeroClusters:\n",
    "    kmeans = cluster.KMeans(n_clusters=i)\n",
    "    kmeans.fit(sale_fullbath)\n",
    "    wcss.append(kmeans.inertia_)\n",
    "\n",
    "plt.plot(numeroClusters, wcss)\n",
    "plt.xlabel(\"Número de clusters\")\n",
    "plt.ylabel(\"Score\")\n",
    "plt.title(\"Gráfico de Codo\")\n",
    "plt.show()\n",
    "\n",
    "print('Numero indicado de clusters: 3')"
   ]
  },
  {
   "cell_type": "code",
   "execution_count": null,
   "id": "987ac251",
   "metadata": {},
   "outputs": [],
   "source": [
    "numeroClusters = range(1,11)\n",
    "wcss = []\n",
    "for i in numeroClusters:\n",
    "    kmeans = cluster.KMeans(n_clusters=i)\n",
    "    kmeans.fit(sale_garage)\n",
    "    wcss.append(kmeans.inertia_)\n",
    "\n",
    "plt.plot(numeroClusters, wcss)\n",
    "plt.xlabel(\"Número de clusters\")\n",
    "plt.ylabel(\"Score\")\n",
    "plt.title(\"Gráfico de Codo\")\n",
    "plt.show()\n",
    "\n",
    "print('Numero indicado de clusters: 3')"
   ]
  },
  {
   "cell_type": "code",
   "execution_count": null,
   "id": "d080eebb",
   "metadata": {},
   "outputs": [],
   "source": [
    "numeroClusters = range(1,11)\n",
    "wcss = []\n",
    "for i in numeroClusters:\n",
    "    kmeans = cluster.KMeans(n_clusters=i)\n",
    "    kmeans.fit(sale_garagecars)\n",
    "    wcss.append(kmeans.inertia_)\n",
    "\n",
    "plt.plot(numeroClusters, wcss)\n",
    "plt.xlabel(\"Número de clusters\")\n",
    "plt.ylabel(\"Score\")\n",
    "plt.title(\"Gráfico de Codo\")\n",
    "plt.show()\n",
    "\n",
    "print('Numero indicado de clusters: 3')"
   ]
  },
  {
   "cell_type": "code",
   "execution_count": null,
   "id": "63e24b8b",
   "metadata": {},
   "outputs": [],
   "source": [
    "numeroClusters = range(1,11)\n",
    "wcss = []\n",
    "for i in numeroClusters:\n",
    "    kmeans = cluster.KMeans(n_clusters=i)\n",
    "    kmeans.fit(sale_garagearea)\n",
    "    wcss.append(kmeans.inertia_)\n",
    "\n",
    "plt.plot(numeroClusters, wcss)\n",
    "plt.xlabel(\"Número de clusters\")\n",
    "plt.ylabel(\"Score\")\n",
    "plt.title(\"Gráfico de Codo\")\n",
    "plt.show()\n",
    "\n",
    "print('Numero indicado de clusters: 3')"
   ]
  },
  {
   "cell_type": "markdown",
   "id": "243c05fd",
   "metadata": {},
   "source": [
    "### Algoritmo K-Medias"
   ]
  },
  {
   "cell_type": "code",
   "execution_count": null,
   "id": "962ef436",
   "metadata": {},
   "outputs": [],
   "source": [
    "kmeans = cluster.KMeans(n_clusters = 3)\n",
    "X = entrenamiento.iloc[:, [36, 3]].values\n",
    "y_kmeans = kmeans.fit_predict(X)\n",
    "\n",
    "plt.scatter(X[y_kmeans == 0, 0], X[y_kmeans == 0, 1], s = 10, c = 'red', label = 'Cluster 1')\n",
    "plt.scatter(X[y_kmeans == 1, 0], X[y_kmeans == 1, 1], s = 10, c = 'blue', label = 'Cluster 2')\n",
    "plt.scatter(X[y_kmeans == 2, 0], X[y_kmeans == 2, 1], s = 10, c = 'green', label = 'Cluster 3')\n",
    "\n",
    "plt.scatter(kmeans.cluster_centers_[:, 0], kmeans.cluster_centers_[:, 1], s = 300, c = 'yellow', label = 'Centroids')\n",
    "plt.title('Clusters')\n",
    "plt.ylabel('OverallQual')\n",
    "plt.xlabel('Sales Price')\n",
    "plt.legend()\n",
    "plt.show()"
   ]
  },
  {
   "cell_type": "code",
   "execution_count": null,
   "id": "1599cd3b",
   "metadata": {},
   "outputs": [],
   "source": [
    "kmeans = cluster.KMeans(n_clusters = 3)\n",
    "X = entrenamiento.iloc[:, [36, 5]].values\n",
    "y_kmeans = kmeans.fit_predict(X)\n",
    "\n",
    "plt.scatter(X[y_kmeans == 0, 0], X[y_kmeans == 0, 1], s = 10, c = 'red', label = 'Cluster 1')\n",
    "plt.scatter(X[y_kmeans == 1, 0], X[y_kmeans == 1, 1], s = 10, c = 'blue', label = 'Cluster 2')\n",
    "plt.scatter(X[y_kmeans == 2, 0], X[y_kmeans == 2, 1], s = 10, c = 'green', label = 'Cluster 3')\n",
    "\n",
    "plt.scatter(kmeans.cluster_centers_[:, 0], kmeans.cluster_centers_[:, 1], s = 300, c = 'yellow', label = 'Centroids')\n",
    "plt.title('Clusters')\n",
    "plt.ylabel('Year Built')\n",
    "plt.xlabel('Sales Price')\n",
    "plt.legend()\n",
    "plt.show()"
   ]
  },
  {
   "cell_type": "code",
   "execution_count": null,
   "id": "6526ec5b",
   "metadata": {},
   "outputs": [],
   "source": [
    "kmeans = cluster.KMeans(n_clusters = 3)\n",
    "X = entrenamiento.iloc[:, [36, 6]].values\n",
    "y_kmeans = kmeans.fit_predict(X)\n",
    "\n",
    "plt.scatter(X[y_kmeans == 0, 0], X[y_kmeans == 0, 1], s = 10, c = 'red', label = 'Cluster 1')\n",
    "plt.scatter(X[y_kmeans == 1, 0], X[y_kmeans == 1, 1], s = 10, c = 'blue', label = 'Cluster 2')\n",
    "plt.scatter(X[y_kmeans == 2, 0], X[y_kmeans == 2, 1], s = 10, c = 'green', label = 'Cluster 3')\n",
    "\n",
    "plt.scatter(kmeans.cluster_centers_[:, 0], kmeans.cluster_centers_[:, 1], s = 300, c = 'yellow', label = 'Centroids')\n",
    "plt.title('Clusters')\n",
    "plt.ylabel('Year Remodel Date')\n",
    "plt.xlabel('Sales Price')\n",
    "plt.legend()\n",
    "plt.show()"
   ]
  },
  {
   "cell_type": "code",
   "execution_count": null,
   "id": "c61cc59d",
   "metadata": {},
   "outputs": [],
   "source": [
    "kmeans = cluster.KMeans(n_clusters = 3)\n",
    "X = entrenamiento.iloc[:, [36, 11]].values\n",
    "y_kmeans = kmeans.fit_predict(X)\n",
    "\n",
    "plt.scatter(X[y_kmeans == 0, 0], X[y_kmeans == 0, 1], s = 10, c = 'red', label = 'Cluster 1')\n",
    "plt.scatter(X[y_kmeans == 1, 0], X[y_kmeans == 1, 1], s = 10, c = 'blue', label = 'Cluster 2')\n",
    "plt.scatter(X[y_kmeans == 2, 0], X[y_kmeans == 2, 1], s = 10, c = 'green', label = 'Cluster 3')\n",
    "\n",
    "plt.scatter(kmeans.cluster_centers_[:, 0], kmeans.cluster_centers_[:, 1], s = 300, c = 'yellow', label = 'Centroids')\n",
    "plt.title('Clusters')\n",
    "plt.ylabel('Total square feet of basement area')\n",
    "plt.xlabel('Sales Price')\n",
    "plt.legend()\n",
    "plt.show()"
   ]
  },
  {
   "cell_type": "code",
   "execution_count": null,
   "id": "0eec0773",
   "metadata": {},
   "outputs": [],
   "source": [
    "kmeans = cluster.KMeans(n_clusters = 3)\n",
    "X = entrenamiento.iloc[:, [36, 12]].values\n",
    "y_kmeans = kmeans.fit_predict(X)\n",
    "\n",
    "plt.scatter(X[y_kmeans == 0, 0], X[y_kmeans == 0, 1], s = 10, c = 'red', label = 'Cluster 1')\n",
    "plt.scatter(X[y_kmeans == 1, 0], X[y_kmeans == 1, 1], s = 10, c = 'blue', label = 'Cluster 2')\n",
    "plt.scatter(X[y_kmeans == 2, 0], X[y_kmeans == 2, 1], s = 10, c = 'green', label = 'Cluster 3')\n",
    "\n",
    "plt.scatter(kmeans.cluster_centers_[:, 0], kmeans.cluster_centers_[:, 1], s = 300, c = 'yellow', label = 'Centroids')\n",
    "plt.title('Clusters')\n",
    "plt.ylabel('First Floor square feet')\n",
    "plt.xlabel('Sales Price')\n",
    "plt.legend()\n",
    "plt.show()"
   ]
  },
  {
   "cell_type": "code",
   "execution_count": null,
   "id": "b96d1ecc",
   "metadata": {},
   "outputs": [],
   "source": [
    "kmeans = cluster.KMeans(n_clusters = 3)\n",
    "X = entrenamiento.iloc[:, [36, 15]].values\n",
    "y_kmeans = kmeans.fit_predict(X)\n",
    "\n",
    "plt.scatter(X[y_kmeans == 0, 0], X[y_kmeans == 0, 1], s = 10, c = 'red', label = 'Cluster 1')\n",
    "plt.scatter(X[y_kmeans == 1, 0], X[y_kmeans == 1, 1], s = 10, c = 'blue', label = 'Cluster 2')\n",
    "plt.scatter(X[y_kmeans == 2, 0], X[y_kmeans == 2, 1], s = 10, c = 'green', label = 'Cluster 3')\n",
    "\n",
    "plt.scatter(kmeans.cluster_centers_[:, 0], kmeans.cluster_centers_[:, 1], s = 300, c = 'yellow', label = 'Centroids')\n",
    "plt.title('Clusters')\n",
    "plt.ylabel('Above grade (ground) living area square feet')\n",
    "plt.xlabel('Sales Price')\n",
    "plt.legend()\n",
    "plt.show()"
   ]
  },
  {
   "cell_type": "code",
   "execution_count": null,
   "id": "57ae61e7",
   "metadata": {},
   "outputs": [],
   "source": [
    "kmeans = cluster.KMeans(n_clusters = 3)\n",
    "X = entrenamiento.iloc[:, [36, 18]].values\n",
    "y_kmeans = kmeans.fit_predict(X)\n",
    "\n",
    "plt.scatter(X[y_kmeans == 0, 0], X[y_kmeans == 0, 1], s = 10, c = 'red', label = 'Cluster 1')\n",
    "plt.scatter(X[y_kmeans == 1, 0], X[y_kmeans == 1, 1], s = 10, c = 'blue', label = 'Cluster 2')\n",
    "plt.scatter(X[y_kmeans == 2, 0], X[y_kmeans == 2, 1], s = 10, c = 'green', label = 'Cluster 3')\n",
    "\n",
    "plt.scatter(kmeans.cluster_centers_[:, 0], kmeans.cluster_centers_[:, 1], s = 300, c = 'yellow', label = 'Centroids')\n",
    "plt.title('Clusters')\n",
    "plt.ylabel('Full bathrooms above grade')\n",
    "plt.xlabel('Sales Price')\n",
    "plt.legend()\n",
    "plt.show()"
   ]
  },
  {
   "cell_type": "code",
   "execution_count": null,
   "id": "26e5bb22",
   "metadata": {},
   "outputs": [],
   "source": [
    "kmeans = cluster.KMeans(n_clusters = 3)\n",
    "X = entrenamiento.iloc[:, [36, 24]].values\n",
    "y_kmeans = kmeans.fit_predict(X)\n",
    "\n",
    "plt.scatter(X[y_kmeans == 0, 0], X[y_kmeans == 0, 1], s = 10, c = 'red', label = 'Cluster 1')\n",
    "plt.scatter(X[y_kmeans == 1, 0], X[y_kmeans == 1, 1], s = 10, c = 'blue', label = 'Cluster 2')\n",
    "plt.scatter(X[y_kmeans == 2, 0], X[y_kmeans == 2, 1], s = 10, c = 'green', label = 'Cluster 3')\n",
    "\n",
    "plt.scatter(kmeans.cluster_centers_[:, 0], kmeans.cluster_centers_[:, 1], s = 300, c = 'yellow', label = 'Centroids')\n",
    "plt.title('Clusters')\n",
    "plt.ylabel('Year garage was built')\n",
    "plt.xlabel('Sales Price')\n",
    "plt.legend()\n",
    "plt.show()"
   ]
  },
  {
   "cell_type": "code",
   "execution_count": null,
   "id": "183a82cb",
   "metadata": {},
   "outputs": [],
   "source": [
    "kmeans = cluster.KMeans(n_clusters = 3)\n",
    "X = entrenamiento.iloc[:, [36, 25]].values\n",
    "y_kmeans = kmeans.fit_predict(X)\n",
    "\n",
    "plt.scatter(X[y_kmeans == 0, 0], X[y_kmeans == 0, 1], s = 10, c = 'red', label = 'Cluster 1')\n",
    "plt.scatter(X[y_kmeans == 1, 0], X[y_kmeans == 1, 1], s = 10, c = 'blue', label = 'Cluster 2')\n",
    "plt.scatter(X[y_kmeans == 2, 0], X[y_kmeans == 2, 1], s = 10, c = 'green', label = 'Cluster 3')\n",
    "\n",
    "plt.scatter(kmeans.cluster_centers_[:, 0], kmeans.cluster_centers_[:, 1], s = 300, c = 'yellow', label = 'Centroids')\n",
    "plt.title('Clusters')\n",
    "plt.ylabel('Size of garage in car capacity')\n",
    "plt.xlabel('Sales Price')\n",
    "plt.legend()\n",
    "plt.show()"
   ]
  },
  {
   "cell_type": "code",
   "execution_count": null,
   "id": "a98acae7",
   "metadata": {},
   "outputs": [],
   "source": [
    "kmeans = cluster.KMeans(n_clusters = 3)\n",
    "X = entrenamiento.iloc[:, [36, 26]].values\n",
    "y_kmeans = kmeans.fit_predict(X)\n",
    "\n",
    "plt.scatter(X[y_kmeans == 0, 0], X[y_kmeans == 0, 1], s = 10, c = 'red', label = 'Cluster 1')\n",
    "plt.scatter(X[y_kmeans == 1, 0], X[y_kmeans == 1, 1], s = 10, c = 'blue', label = 'Cluster 2')\n",
    "plt.scatter(X[y_kmeans == 2, 0], X[y_kmeans == 2, 1], s = 10, c = 'green', label = 'Cluster 3')\n",
    "\n",
    "plt.scatter(kmeans.cluster_centers_[:, 0], kmeans.cluster_centers_[:, 1], s = 300, c = 'yellow', label = 'Centroids')\n",
    "plt.title('Clusters')\n",
    "plt.ylabel('Size of garage in square feet')\n",
    "plt.xlabel('Sales Price')\n",
    "plt.legend()\n",
    "plt.show()"
   ]
  },
  {
   "cell_type": "code",
   "execution_count": null,
   "id": "cc2c00f5",
   "metadata": {},
   "outputs": [],
   "source": [
    "kmeans = cluster.KMeans(n_clusters = 3)\n",
    "X = np.array(entrenamiento[[\"SalePrice\", \"OverallQual\", \"YearBuilt\", \"YearRemodAdd\", \"TotalBsmtSF\", \"1stFlrSF\", \"GrLivArea\", \"FullBath\", \"GarageYrBlt\", \"GarageCars\", \"GarageArea\"]])\n",
    "X = sklearn.preprocessing.scale(X)\n",
    "kmeans.fit(X)\n",
    "entrenamiento['KmeansCluster'] = kmeans.labels_"
   ]
  },
  {
   "cell_type": "code",
   "execution_count": null,
   "id": "679a1185",
   "metadata": {},
   "outputs": [],
   "source": [
    "entrenamiento['Quality-Price'] = entrenamiento['OverallQual'] / entrenamiento['SalePrice']\n",
    "entrenamiento['Quality-Price'] = entrenamiento['Quality-Price'] / max(entrenamiento['Quality-Price'])\n",
    "entrenamiento"
   ]
  },
  {
   "cell_type": "code",
   "execution_count": null,
   "id": "bc771d09",
   "metadata": {},
   "outputs": [],
   "source": [
    "l = 0\n",
    "for col in entrenamiento.columns:\n",
    "    print(col + \"       \" + str(l))\n",
    "    l = l + 1"
   ]
  },
  {
   "cell_type": "markdown",
   "id": "3f150955",
   "metadata": {},
   "source": [
    "#### Explicacion\n",
    "\n",
    "El preprocesamiento a seguir fue primero eliminar los datos de variables cualitativas para solo trabajar con las cuantitativas. Segundo, se obtuvieron las graficas de cajas de bigotes para saber cuantos datos atipicos habian por variable y despues se usaba la funcion para eliminar estos (o su mayoria). Algunas variables solo tenian valores 0 por los cuales no eran necesarios para el analisis de correlacion pero tampoco afectaban su calculo.\n",
    "\n",
    "Para saber que variables ibamos a tomar para tomar la variable de respuesta, primero, por medio de la grafica de correlacion, vimos que variables estaban fuertemente relacionas (>=0.5) con la variable SalePrice dado a que esta nos podia indicar si una casa era económica, intermedia o cara por medio de su precio y ver que variables definian este. Con esto, se obtuvieron que las variables que tenian una fuerte relacion con SalePrice eran: \"YearBuilt\", \"YearRemodAdd\", \"TotalBsmtSF\", \"1stFlrSF\", \"GrLivArea\", \"FullBath\", \"GarageYrBlt\", \"GarageCars\", \"GarageArea\" y confirmamos este hecho por medio del VAT.\n",
    "\n",
    "Por ultimo, con las graficas de codos se pudo el numero de klusters indicados para cada uno de los agrupamientos dando como resultado en todos k = 3. Con esto, se pudieron formas grupos para las graficas de k-medias."
   ]
  },
  {
   "cell_type": "markdown",
   "id": "496b4a90",
   "metadata": {},
   "source": [
    "## 6. Elabore  el  árbol  de  clasificación  utilizando  el  conjunto  de  entrenamiento  y  la  variable  respuesta que creó en el punto 4.  Explique los resultados a los que llega. Muestre el modelo gráficamente. El experimento debe ser reproducible por lo que debe fijar que los conjuntos de entrenamiento y prueba sean los mismos siempre que se ejecute el código."
   ]
  },
  {
   "cell_type": "code",
   "execution_count": null,
   "id": "d6bc480c",
   "metadata": {},
   "outputs": [],
   "source": [
    "#Copiar los datos\n",
    "arbolDF = entrenamiento.copy()\n",
    "arbolDF = arbolDF[[\"SalePrice\", \"OverallQual\", \"YearBuilt\", \"YearRemodAdd\", \"TotalBsmtSF\", \"1stFlrSF\", \"GrLivArea\", \"FullBath\", \"GarageYrBlt\", \"GarageCars\", \"GarageArea\", \"KmeansCluster\"]]\n",
    "arbolDF"
   ]
  },
  {
   "cell_type": "code",
   "execution_count": null,
   "id": "dd4ee819",
   "metadata": {},
   "outputs": [],
   "source": [
    "from sklearn.model_selection import train_test_split\n",
    "\n",
    "Y = arbolDF.pop(\"KmeansCluster\")\n",
    "X = arbolDF\n",
    "\n",
    "\n",
    "#Dividiremos nuestros datos en dos gran conjuntos\n",
    "x_train, x_test, y_train, y_test = train_test_split(X, Y, train_size = 0.75, random_state = 0)\n",
    "x_train.info()"
   ]
  },
  {
   "cell_type": "code",
   "execution_count": null,
   "id": "00b8b319",
   "metadata": {},
   "outputs": [],
   "source": [
    "from sklearn.tree import DecisionTreeClassifier\n",
    "\n",
    "#Se crea el modelo de arbol que utilizaremos\n",
    "arbol = DecisionTreeClassifier(max_depth = 4)\n",
    "\n",
    "arbol_ventas = arbol.fit(x_train, y_train)"
   ]
  },
  {
   "cell_type": "code",
   "execution_count": null,
   "id": "c24f8c8a",
   "metadata": {},
   "outputs": [],
   "source": [
    "y_predict_dtc = arbol_ventas.predict((x_test))\n",
    "\n",
    "from sklearn import metrics\n",
    "r_square = metrics.r2_score(y_test, y_predict_dtc)\n",
    "print(\"Error asociado al Arbol de Regresión: \", r_square)"
   ]
  },
  {
   "cell_type": "code",
   "execution_count": null,
   "id": "5f3a85b9",
   "metadata": {},
   "outputs": [],
   "source": [
    "from sklearn import tree\n",
    "\n",
    "fig = plt.figure(figsize= (25, 20)) #Le indicamos las dimensiones del gráfico\n",
    "\n",
    "tree.plot_tree(arbol_ventas, feature_names = list(arbolDF.columns), class_names=['0','1','2'], filled=True)\n",
    "plt.show()\n",
    "fig.savefig('Arbol.png')"
   ]
  },
  {
   "cell_type": "markdown",
   "id": "112e6dc9",
   "metadata": {},
   "source": [
    "Explicación: Dentro del arbol de decisiones se puede ver claramente que este es determinado por varios factores, tales como el año de contrucción de la casa, cantidad de baños, si tiene o no garage, las dimensiones del garage, el año que se contruyo alguna remodelación a la misma casa, entre otras.\n",
    "\n",
    "De arriba hacia abajo podemos interpretar algo tal que asi:\n",
    "\n",
    "Si el año de construcción es menor a 1973, puede que tenga un precio basado en el area que ocupa el primer piso, el cual se determina por la cantidad de baños o area del garage. Puede darse el caso tambien de que el precio se determine por el area del garage primero, luego de este se ocuparia el año de construccion.\n",
    "\n",
    "Existe otro caso, donde si el año de construccion fue mayor a 1973, nos vamos por el lado de ver la cantidad de carros qe caben en el garage. A partir de aca, tenemos dos caminos, cantidad de baños que incluyen el año de remodelacion o un precio fijo, o el otro camino que toma debido a las dimensiones del primer piso y del garage en si."
   ]
  },
  {
   "cell_type": "markdown",
   "id": "a1c6179f",
   "metadata": {},
   "source": [
    "## 7. Elabore el árbol de regresión para predecir el precio de las viviendas utilizando el conjunto  de entrenamiento.  Explique los resultados a los que llega. Muestre el modelo gráficamente. \n",
    "El experimento debe ser reproducible por lo que debe fijar que los conjuntos de \n",
    "entrenamiento y prueba sean los mismos siempre que se ejecute el código."
   ]
  },
  {
   "cell_type": "code",
   "execution_count": null,
   "id": "8b120217",
   "metadata": {},
   "outputs": [],
   "source": [
    "from sklearn.tree import DecisionTreeRegressor\n",
    "\n",
    "dtReg = DecisionTreeRegressor(random_state = 0)\n",
    "\n",
    "dtReg.fit(x_train, y_train)"
   ]
  },
  {
   "cell_type": "code",
   "execution_count": null,
   "id": "cc1d57c0",
   "metadata": {},
   "outputs": [],
   "source": [
    "y_predict_dtr = dtReg.predict((x_test))\n",
    "\n",
    "from sklearn import metrics\n",
    "r_square = metrics.r2_score(y_test, y_predict_dtr)\n",
    "print(\"Error asociado al Arbol de Regresión: \", r_square)"
   ]
  },
  {
   "cell_type": "code",
   "execution_count": null,
   "id": "44a8a659",
   "metadata": {},
   "outputs": [],
   "source": [
    "from sklearn import tree\n",
    "\n",
    "fig = plt.figure(figsize= (25, 20)) #Le indicamos las dimensiones del gráfico\n",
    "\n",
    "tree.plot_tree(dtReg, feature_names = list(arbolDF.columns), class_names=['0','1','2'], filled=True)\n",
    "plt.show()"
   ]
  },
  {
   "cell_type": "markdown",
   "id": "a30f3465",
   "metadata": {},
   "source": [
    "Explicación: Si se analiza el arbol de regresión nos podemos dar cuenta que las variables que determinan el precio(enlistadas en el anterior arbol) van siempre de la mano según que decisión se tome. Esto nos sirve para que la función de costo tenga un menor valor y se acerce más al valor real que en este caso es el precio de venta de una casa."
   ]
  },
  {
   "cell_type": "markdown",
   "id": "2cd10ee9",
   "metadata": {},
   "source": [
    "## 8. Utilice  el  modelo  con  el  conjunto  de  prueba  y  determine  la  eficiencia  del  algoritmo  para \n",
    "clasificar y predecir, en dependencia de las características de la variable respuesta. "
   ]
  },
  {
   "cell_type": "code",
   "execution_count": null,
   "id": "bdc0a32c",
   "metadata": {},
   "outputs": [],
   "source": [
    "dat = {\n",
    "    'y_test': y_test,\n",
    "    'y_predict_dtc': y_predict_dtr\n",
    "}\n",
    "\n",
    "ev = pd.DataFrame(dat, columns=['y_test','y_predict_dtc'])\n",
    "ev['y_predict_dtc'] = ev['y_predict_dtc'].astype(int)\n",
    "ev['result'] = np.where(ev['y_test'] == ev['y_predict_dtc'], 1, 0)\n",
    "ev"
   ]
  },
  {
   "cell_type": "code",
   "execution_count": null,
   "id": "abac8de4",
   "metadata": {},
   "outputs": [],
   "source": [
    "ev['result'].mean()"
   ]
  },
  {
   "cell_type": "markdown",
   "id": "ca41815e",
   "metadata": {},
   "source": [
    "Se puede notar que el algoritmo para clasificar tiene un indice de confianza de ~95.7%, lo que lo hace un algoritmo bastante preciso para clasificar y predecir los resultados."
   ]
  },
  {
   "cell_type": "markdown",
   "id": "a7649a52",
   "metadata": {},
   "source": [
    "## 9. Haga un análisis de la eficiencia del algoritmo usando una matriz de confusión para el árbol \n",
    "de clasificación. Tenga en cuenta la efectividad, donde el algoritmo se equivocó más, donde \n",
    "se equivocó menos y la importancia que tienen los errores."
   ]
  },
  {
   "cell_type": "code",
   "execution_count": null,
   "id": "0f609b02",
   "metadata": {},
   "outputs": [],
   "source": [
    "confusion_matrix = pd.crosstab(ev['y_test'], ev['y_predict_dtc'], rownames=['y_test'], colnames=['y_predict_dtr'])\n",
    "\n",
    "sb.heatmap(confusion_matrix, annot=True)\n",
    "plt.show()"
   ]
  },
  {
   "cell_type": "markdown",
   "id": "f3ed4f80",
   "metadata": {},
   "source": [
    "## 10. Analice el desempeño del árbol de regresión."
   ]
  },
  {
   "cell_type": "code",
   "execution_count": null,
   "id": "3b25cd87",
   "metadata": {},
   "outputs": [],
   "source": [
    "dat = {\n",
    "    'y_test': y_test,\n",
    "    'y_predict_dtr': y_predict_dtr\n",
    "}\n",
    "\n",
    "evr = pd.DataFrame(dat, columns=['y_test','y_predict_dtr'])\n",
    "evr['y_predict_dtr'] = evr['y_predict_dtr'].astype(int)\n",
    "evr['result'] = np.where(evr['y_test'] == evr['y_predict_dtr'], 1, 0)\n",
    "evr"
   ]
  },
  {
   "cell_type": "code",
   "execution_count": null,
   "id": "8f0c93a4",
   "metadata": {},
   "outputs": [],
   "source": [
    "evr['result'].mean()"
   ]
  },
  {
   "cell_type": "code",
   "execution_count": null,
   "id": "d4e73c47",
   "metadata": {},
   "outputs": [],
   "source": [
    "confusion_matrix = pd.crosstab(evr['y_test'], evr['y_predict_dtr'], rownames=['y_test'], colnames=['y_predict_dtr'])\n",
    "\n",
    "sb.heatmap(confusion_matrix, annot=True)\n",
    "plt.show()"
   ]
  },
  {
   "cell_type": "markdown",
   "id": "553fc6b5",
   "metadata": {},
   "source": [
    "Para el caso delalgoritmo de regresión, también podemos afirmar que es bastante preciso, pues el indice de efectividad está por arriba del 98%, implicando que el margen de error fue mínimo."
   ]
  },
  {
   "cell_type": "markdown",
   "id": "eedc195c",
   "metadata": {},
   "source": [
    "## 11. Repita  los  análisis  usando  random  forest  como  algoritmo  de  predicción,  explique  sus resultados comparando ambos algoritmos. "
   ]
  },
  {
   "cell_type": "code",
   "execution_count": null,
   "id": "dcedc3af",
   "metadata": {},
   "outputs": [],
   "source": [
    "from sklearn.ensemble import RandomForestClassifier\n",
    "clf=RandomForestClassifier(n_estimators=100)\n",
    "clf.fit(x_train, y_train)"
   ]
  },
  {
   "cell_type": "code",
   "execution_count": null,
   "id": "98c705c3",
   "metadata": {},
   "outputs": [],
   "source": [
    "y_pred=clf.predict(x_test)\n",
    "y_pred"
   ]
  },
  {
   "cell_type": "code",
   "execution_count": null,
   "id": "fb26a9f6",
   "metadata": {},
   "outputs": [],
   "source": [
    "print(\"Accuracy:\",metrics.accuracy_score(y_test, y_pred))"
   ]
  },
  {
   "cell_type": "code",
   "execution_count": null,
   "id": "742e9d35",
   "metadata": {},
   "outputs": [],
   "source": [
    "dat = {\n",
    "    'y_test': y_test,\n",
    "    'y_pred': y_pred\n",
    "}\n",
    "\n",
    "evrf = pd.DataFrame(dat, columns=['y_test','y_pred'])\n",
    "evrf['y_pred'] = evrf['y_pred'].astype(int)\n",
    "evrf['result'] = np.where(evrf['y_test'] == evrf['y_pred'], 1, 0)\n",
    "evrf"
   ]
  },
  {
   "cell_type": "code",
   "execution_count": null,
   "id": "6b7e05e6",
   "metadata": {},
   "outputs": [],
   "source": [
    "evrf['result'].mean()"
   ]
  },
  {
   "cell_type": "code",
   "execution_count": null,
   "id": "d33f800f",
   "metadata": {},
   "outputs": [],
   "source": [
    "confusion_matrix = pd.crosstab(evrf['y_test'], evrf['y_pred'], rownames=['y_test'], colnames=['y_predict_dtr'])\n",
    "\n",
    "sb.heatmap(confusion_matrix, annot=True)\n",
    "plt.show()"
   ]
  },
  {
   "cell_type": "markdown",
   "id": "871494b2",
   "metadata": {},
   "source": [
    "El caso del random forest se puede calcular que fue mucho más preciso que el resto de algoritmos, aunque la diferencia no es tan significativa, ya que los superaba únicamente por un 3% aproximadamente.La matriz de confusión para el Random Forest es muy similar a los algoritmos anteriores, así que tampoco se aprecia una diferenciación significativa."
   ]
  },
  {
   "cell_type": "code",
   "execution_count": null,
   "id": "150677e7",
   "metadata": {},
   "outputs": [],
   "source": []
  }
 ],
 "metadata": {
  "kernelspec": {
   "display_name": "Python 3 (ipykernel)",
   "language": "python",
   "name": "python3"
  },
  "language_info": {
   "codemirror_mode": {
    "name": "ipython",
    "version": 3
   },
   "file_extension": ".py",
   "mimetype": "text/x-python",
   "name": "python",
   "nbconvert_exporter": "python",
   "pygments_lexer": "ipython3",
   "version": "3.9.7"
  }
 },
 "nbformat": 4,
 "nbformat_minor": 5
}
